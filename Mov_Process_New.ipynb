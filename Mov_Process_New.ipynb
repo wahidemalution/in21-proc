{
  "nbformat": 4,
  "nbformat_minor": 0,
  "metadata": {
    "colab": {
      "provenance": [],
      "include_colab_link": true
    },
    "kernelspec": {
      "name": "python3",
      "display_name": "Python 3"
    },
    "language_info": {
      "name": "python"
    }
  },
  "cells": [
    {
      "cell_type": "markdown",
      "metadata": {
        "id": "view-in-github",
        "colab_type": "text"
      },
      "source": [
        "<a href=\"https://colab.research.google.com/github/wahidemalution/in21-proc/blob/main/Mov_Process_New.ipynb\" target=\"_parent\"><img src=\"https://colab.research.google.com/assets/colab-badge.svg\" alt=\"Open In Colab\"/></a>"
      ]
    },
    {
      "cell_type": "code",
      "execution_count": null,
      "metadata": {
        "cellView": "form",
        "id": "c_Ux_aOBly7M"
      },
      "outputs": [],
      "source": [
        "#@title Install Required App\n",
        "!sudo apt-get -y update > /dev/null 2>&1\n",
        "\n",
        "!curl https://sdk.cloud.google.com | bash\n",
        "\n",
        "\n",
        "!rm /usr/local/bin/mkvpropedit > /dev/null 2>&1\n",
        "!rm /usr/local/bin/mkvmerge > /dev/null 2>&1\n",
        "!rm /usr/local/bin/mkvextract > /dev/null 2>&1\n",
        "!rm /usr/local/bin/mkvinfo > /dev/null 2>&1\n",
        "\n",
        "!sudo curl -L https://mkvtoolnix.download/appimage/MKVToolNix_GUI-74.0.0-x86_64.AppImage -o /usr/local/bin/MKVToolNix_GUI.AppImage > /dev/null 2>&1\n",
        "!sudo chmod u+rx /usr/local/bin/MKVToolNix_GUI.AppImage\n",
        "!sudo ln -s /usr/local/bin/MKVToolNix_GUI.AppImage /usr/local/bin/mkvpropedit\n",
        "!sudo chmod a+rx /usr/local/bin/mkvpropedit\n",
        "!sudo ln -s /usr/local/bin/MKVToolNix_GUI.AppImage /usr/local/bin/mkvmerge\n",
        "!sudo chmod a+rx /usr/local/bin/mkvmerge\n",
        "!sudo ln -s /usr/local/bin/MKVToolNix_GUI.AppImage /usr/local/bin/mkvextract\n",
        "!sudo chmod a+rx /usr/local/bin/mkvextract\n",
        "!sudo ln -s /usr/local/bin/MKVToolNix_GUI.AppImage /usr/local/bin/mkvinfo\n",
        "!sudo chmod a+rx /usr/local/bin/mkvinfo\n",
        "print(\"MKVTOOLNIX Installed\")\n",
        "\n",
        "\n",
        "!sudo apt-get install jq > /dev/null 2>&1\n",
        "print(\"jq installed\")\n",
        "\n",
        "!sudo apt-get -y install libmms0 libc-ares2 libc6 libcrypto++6 libgcc1 libmediainfo0v5 libpcre3 libpcrecpp0v5 libssl1.1 libstdc++6 libzen0v5 zlib1g apt-transport-https > /dev/null 2>&1\n",
        "!sudo curl -sL -o /var/cache/apt/archives/MEGAcmd.deb https://mega.nz/linux/MEGAsync/Debian_9.0/amd64/megacmd-Debian_9.0_amd64.deb > /dev/null 2>&1\n",
        "!sudo dpkg -i /var/cache/apt/archives/MEGAcmd.deb > /dev/null 2>&1\n",
        "print(\"Mega Installed\")\n",
        "\n",
        "!apt install ffmpeg -y\n",
        "print(\"FFMPEG Installed\")"
      ]
    },
    {
      "cell_type": "code",
      "source": [
        "#@title Login MEGA\n",
        "USERNAME = \"email\"  # @param {type:\"string\"}\n",
        "PASSWORD = \"MEGA PASS\"  # @param {type:\"string\"} \n",
        "!timeout 3s mega-login {USERNAME} {PASSWORD}\n",
        "!mega-whoami"
      ],
      "metadata": {
        "cellView": "form",
        "id": "NYEC08s1si39"
      },
      "execution_count": null,
      "outputs": []
    },
    {
      "cell_type": "code",
      "source": [
        "#@title MEGA LogOut\n",
        "!mega-logout [--keep-session]"
      ],
      "metadata": {
        "cellView": "form",
        "id": "rTXg-ATxskq-"
      },
      "execution_count": null,
      "outputs": []
    },
    {
      "cell_type": "code",
      "source": [
        "#@title Auth Google Cloud\n",
        "from google.colab import auth\n",
        "auth.authenticate_user()"
      ],
      "metadata": {
        "cellView": "form",
        "id": "NbwdIKXK4mn6"
      },
      "execution_count": null,
      "outputs": []
    },
    {
      "cell_type": "code",
      "source": [
        "#@title Init Google Cloud\n",
        "!gcloud init"
      ],
      "metadata": {
        "cellView": "form",
        "id": "D6vhDX0O48Lb"
      },
      "execution_count": null,
      "outputs": []
    },
    {
      "cell_type": "code",
      "source": [
        "#@title Mount Google Drive\n",
        "from google.colab import drive\n",
        "drive.mount('/content/drive')"
      ],
      "metadata": {
        "cellView": "form",
        "id": "-g5bgC0MyGeu"
      },
      "execution_count": null,
      "outputs": []
    },
    {
      "cell_type": "code",
      "source": [
        "#@title Sub Extract\n",
        "MOVIE = \"/content/drive/MyDrive/[Movieku.cc].BtNHrQn17.720p.x264.Bluray.mkv\"  # @param {type:\"string\"}\n",
        "OUTPUT_NAME = \"batman-andharley-queen2017\"  # @param {type:\"string\"} \n",
        "\n",
        "\n",
        "!ffmpeg -i \"{MOVIE}\" -map 0:s:0 {OUTPUT_NAME}.srt"
      ],
      "metadata": {
        "cellView": "form",
        "id": "DuZH9wLE8IBT"
      },
      "execution_count": null,
      "outputs": []
    },
    {
      "cell_type": "code",
      "source": [
        "#@title Clean Sub\n",
        "SUB = \"/content/batman-andharley-queen2017.srt\"  # @param {type:\"string\"} \n",
        "OUTPUT_NAME = \"batman-andharley-queen2017\"  # @param {type:\"string\"} \n",
        "\n",
        "!sed 's/<[^>]*>//g' \"{SUB}\" > {OUTPUT_NAME}-FIX.srt"
      ],
      "metadata": {
        "cellView": "form",
        "id": "J3iPD7ak94uG"
      },
      "execution_count": null,
      "outputs": []
    },
    {
      "cell_type": "code",
      "source": [
        "#@title Upload to FileDitch\n",
        "import os\n",
        "\n",
        "source_file = \"/content/drive/MyDrive/[Movieku.cc].BtNHrQn17.1080p.x264.Bluray.mkv\" #@param {type:\"string\"}\n",
        "source_file1 = \"/content/drive/MyDrive/[Movieku.cc].BtNHrQn17.1080p.x264.Bluray.mkv\" #@param {type:\"string\"}\n",
        "\n",
        "\n",
        "os.environ['sourceFile'] = source_file\n",
        "os.environ['sourceFile1'] = source_file1\n",
        "\n",
        "\n",
        "!curl -# -i -F files[]=@\"$sourceFile\" https://up1.fileditch.com/upload.php\n",
        "!curl -# -i -F files[]=@\"$sourceFile1\" https://up1.fileditch.com/upload.php\n"
      ],
      "metadata": {
        "cellView": "form",
        "id": "zXiX4oGo_6Bf"
      },
      "execution_count": null,
      "outputs": []
    },
    {
      "cell_type": "code",
      "source": [
        "#@title MKVMerver Video Info\n",
        "\n",
        "import os\n",
        "\n",
        "video_file_path = \"/content/drive/MyDrive/[Movieku.cc].65.23.720p.x264.WebDL.mkv\" #@param {type:\"string\"}\n",
        "\n",
        "os.environ['inputFile'] = video_file_path\n",
        "\n",
        "!mkvmerge -J \"\"$inputFile\"\""
      ],
      "metadata": {
        "cellView": "form",
        "id": "nbW-GHO6yewU"
      },
      "execution_count": null,
      "outputs": []
    },
    {
      "cell_type": "code",
      "source": [
        "#@title Delete Attachment MKVmerge\n",
        "\n",
        "import os\n",
        "\n",
        "video_file_path = \"/content/drive/MyDrive/DriveFire/Magic.Mikes.Last.Dance.2023.1080p.WEB-DL.x264-[Mkvking.com].mkv\" #@param {type:\"string\"}\n",
        "video_file_path1 = \"/content/drive/MyDrive/DriveFire/Magic.Mikes.Last.Dance.2023.720p.WEB-DL.x264-[Mkvking.com].mkv\" #@param {type:\"string\"}\n",
        "\n",
        "\n",
        "os.environ['inputFile'] = video_file_path\n",
        "os.environ['inputFile1'] = video_file_path1\n",
        "\n",
        "!mkvpropedit \"\"$inputFile\"\" --delete-attachment 1\n",
        "!mkvpropedit \"\"$inputFile1\"\" --delete-attachment 1"
      ],
      "metadata": {
        "cellView": "form",
        "id": "2JpM7ZWByhjE"
      },
      "execution_count": null,
      "outputs": []
    },
    {
      "cell_type": "code",
      "source": [
        "#@title Change Container Title Metadata\n",
        "FILE = \"/content/drive/MyDrive/[Movieku.cc].65.23.720p.x264.WebDL.mkv\"  # @param {type:\"string\"} \n",
        "TITLE = \"65 (2023)-WEBDL\"  # @param {type:\"string\"} \n",
        "\n",
        "\n",
        "!mkvpropedit \"{FILE}\" -e info -s title=\"{TITLE}-INFOKAN21.TOP\""
      ],
      "metadata": {
        "cellView": "form",
        "id": "6fe8LQlheo9R"
      },
      "execution_count": null,
      "outputs": []
    },
    {
      "cell_type": "code",
      "source": [
        "function ConnectButton(){\n",
        "    console.log(\"Connect pushed\"); \n",
        "    document.querySelector(\"#top-toolbar > colab-connect-button\").shadowRoot.querySelector(\"#connect\").click() \n",
        "}\n",
        "setInterval(ConnectButton,60000);"
      ],
      "metadata": {
        "id": "ux3KWqA_0ClI"
      },
      "execution_count": null,
      "outputs": []
    },
    {
      "cell_type": "code",
      "source": [
        "#@title CURL\n",
        "NAME = \"Emancipation (2022)-WEBDL\"  # @param {type:\"string\"} \n",
        "\n",
        "URL = \"https://big.thefileditch.ch//b7//XUWwaZGOygvyzdOWsHiaaH.mp4\"  # @param {type:\"string\"} \n",
        "\n",
        "\n",
        "!curl -# -o /content/\"{NAME}\"-INFOKAN21.TOP.mp4 {URL}"
      ],
      "metadata": {
        "cellView": "form",
        "id": "wBBqRzMEiQr_"
      },
      "execution_count": null,
      "outputs": []
    },
    {
      "cell_type": "code",
      "source": [
        "#@title Upload to Mega\n",
        "import os\n",
        "\n",
        "source_file = \"/content/drive/MyDrive/subbed/MgcMikesLstDnce2023-WEBDL-DLFILMHD.COM-1080-subtitleIndonesia.mkv\" #@param {type:\"string\"}\n",
        "\n",
        "\n",
        "os.environ['sourceFile'] = source_file\n",
        "\n",
        "\n",
        "!mega-put \"$sourceFile\"\n"
      ],
      "metadata": {
        "cellView": "form",
        "id": "MJOD_3yQs1U2"
      },
      "execution_count": null,
      "outputs": []
    },
    {
      "cell_type": "code",
      "source": [
        "#@title Backup to Google Cloud\n",
        "import os\n",
        "\n",
        "source_file = \"/content/drive/MyDrive/subbed/ThWndringMoon2022-DLFILMHD.COM-1080-subtitleIndonesia.mkv\" #@param {type:\"string\"}\n",
        "bucket = \"bucket.appspot.com\" #@param {type:\"string\"}\n",
        "\n",
        "\n",
        "os.environ['sourceFile'] = source_file\n",
        "os.environ['Bucket'] = bucket\n",
        "\n",
        "!gcloud alpha storage cp \"$sourceFile\" gs://\"$Bucket\""
      ],
      "metadata": {
        "cellView": "form",
        "id": "2vV4A-tZFoRz"
      },
      "execution_count": null,
      "outputs": []
    }
  ]
}